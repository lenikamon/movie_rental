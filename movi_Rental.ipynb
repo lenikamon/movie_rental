{
  "metadata": {
    "kernelspec": {
      "name": "python",
      "display_name": "Python (Pyodide)",
      "language": "python"
    },
    "language_info": {
      "codemirror_mode": {
        "name": "python",
        "version": 3
      },
      "file_extension": ".py",
      "mimetype": "text/x-python",
      "name": "python",
      "nbconvert_exporter": "python",
      "pygments_lexer": "ipython3",
      "version": "3.8"
    }
  },
  "nbformat_minor": 4,
  "nbformat": 4,
  "cells": [
    {
      "cell_type": "code",
      "source": "import pandas as pd\nimport numpy as np\nfrom sklearn.model_selection import train_test_split\nfrom sklearn.metrics import mean_squared_error\nfrom sklearn.linear_model import Lasso\nfrom sklearn.model_selection import train_test_split\nfrom sklearn.preprocessing import StandardScaler\nfrom sklearn.linear_model import LinearRegression\nfrom sklearn.metrics import mean_squared_error\nfrom sklearn.ensemble import RandomForestRegressor\nfrom sklearn.model_selection import RandomizedSearchCV\n\ndf_rental = pd.read_csv(\"rental_info.csv\")\n\ndf_rental[\"rental_length\"] = pd.to_datetime(df_rental[\"return_date\"]) - pd.to_datetime(df_rental[\"rental_date\"])\ndf_rental[\"rental_length_days\"] = df_rental[\"rental_length\"].dt.days\n\ndf_rental[\"deleted_scenes\"] =  np.where(df_rental[\"special_features\"].str.contains(\"Deleted Scenes\"), 1, 0)\ndf_rental[\"behind_the_scenes\"] =  np.where(df_rental[\"special_features\"].str.contains(\"Behind the Scenes\"), 1, 0)\n\ncols_to_drop = [\"special_features\", \"rental_length\", \"rental_length_days\", \"rental_date\", \"return_date\"]\n\nX = df_rental.drop(cols_to_drop, axis=1)\ny = df_rental[\"rental_length_days\"]\n\nX_train,X_test,y_train,y_test = train_test_split(X, \n                                                 y, \n                                                 test_size=0.2, \n                                                 random_state=9)\nlasso = Lasso(alpha=0.3, random_state=9) \n\nlasso.fit(X_train, y_train)\nlasso_coef = lasso.coef_\n\nX_lasso_train, X_lasso_test = X_train.iloc[:, lasso_coef > 0], X_test.iloc[:, lasso_coef > 0]\n\n\nols = LinearRegression()\nols = ols.fit(X_lasso_train, y_train)\ny_test_pred = ols.predict(X_lasso_test)\nmse_lin_reg_lasso = mean_squared_error(y_test, y_test_pred)\n\nparam_dist = {'n_estimators': np.arange(1,101,1),\n          'max_depth':np.arange(1,11,1)}\n\nrf = RandomForestRegressor()\n\nrand_search = RandomizedSearchCV(rf, \n                                 param_distributions=param_dist, \n                                 cv=5, \n                                 random_state=9)\n\nrand_search.fit(X_train, y_train)\n\nhyper_params = rand_search.best_params_\n\nrf = RandomForestRegressor(n_estimators=hyper_params[\"n_estimators\"], \n                           max_depth=hyper_params[\"max_depth\"], \n                           random_state=9)\nrf.fit(X_train,y_train)\nrf_pred = rf.predict(X_test)\nmse_random_forest= mean_squared_error(y_test, rf_pred)\n\nbest_model = rf\nbest_mse = mse_random_forest",
      "metadata": {
        "trusted": true
      },
      "outputs": [],
      "execution_count": null
    }
  ]
}